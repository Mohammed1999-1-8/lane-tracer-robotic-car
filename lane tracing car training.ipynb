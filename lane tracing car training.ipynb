{
  "cells": [
    {
      "cell_type": "code",
      "execution_count": null,
      "metadata": {
        "id": "vgf2UTuxt0g3"
      },
      "outputs": [],
      "source": [
        "from google.colab import drive\n",
        "drive.mount('/content/drive')"
      ]
    },
    {
      "cell_type": "code",
      "execution_count": null,
      "metadata": {
        "id": "4-TLMifDt5e1"
      },
      "outputs": [],
      "source": [
        "!unzip drive/MyDrive/Data_set.zip -d images/"
      ]
    },
    {
      "cell_type": "markdown",
      "metadata": {
        "id": "TZgCvs12zPOx"
      },
      "source": [
        "# Self driving car - street lane tracing \n",
        "the goal of this work is to design RC robotic car , this car is supposed to trace the lanes on a small track. "
      ]
    },
    {
      "cell_type": "code",
      "execution_count": null,
      "metadata": {
        "id": "dxxU6b_wu10v"
      },
      "outputs": [],
      "source": [
        "import pandas as pd\n",
        "import os \n",
        "import torch\n",
        "import torchvision\n",
        "from torch.utils.data import Dataset,DataLoader\n",
        "from skimage import io\n",
        "import torchvision.transforms as transforms\n",
        "import numpy as np\n",
        "import cv2 \n",
        "import matplotlib.pyplot as plt\n",
        "from math import floor , ceil\n",
        "import torch.nn as nn\n",
        "import torch.optim as optim\n",
        "from tqdm import tqdm\n",
        "import torch.nn.functional as f"
      ]
    },
    {
      "cell_type": "code",
      "execution_count": null,
      "metadata": {
        "id": "gkvKI7534o0v"
      },
      "outputs": [],
      "source": [
        "class customDataset(Dataset):\n",
        "  def __init__(self,csv_file,root_url,transform = None):\n",
        "    self.annotation = pd.read_csv(csv_file)\n",
        "    self.root_dir = root_url\n",
        "    self.transform = transform\n",
        "\n",
        "  def __len__(self):\n",
        "    return len(self.annotation)\n",
        "\n",
        "  def __getitem__(self, index):\n",
        "    image_path = os.path.join(self.root_dir,self.annotation.iloc[index,0].split(';')[0])\n",
        "    image = io.imread(image_path)\n",
        "    y_label = torch.tensor(int(self.annotation.iloc[index,0].split(';')[1][1]))\n",
        "    if self.transform :\n",
        "      image = self.transform(image)\n",
        "    return (image,y_label)"
      ]
    },
    {
      "cell_type": "code",
      "execution_count": null,
      "metadata": {
        "colab": {
          "base_uri": "https://localhost:8080/"
        },
        "id": "0EtK9vfp8w8P",
        "outputId": "4e0faa79-bb2c-46e7-d8e2-bd8a291619bd"
      },
      "outputs": [
        {
          "name": "stdout",
          "output_type": "stream",
          "text": [
            "training data size is : 8909\n",
            "testing data size is : 2228\n"
          ]
        }
      ],
      "source": [
        "data_set = customDataset(csv_file = 'drive/MyDrive/dataset/ref/ref.csv',root_url='images/images'\n",
        ",transform = transforms.ToTensor())\n",
        "\n",
        "train_to_test_ratio = 0.8\n",
        "\n",
        "data_length = data_set.__len__()\n",
        "train_data_length = floor(data_length*train_to_test_ratio)\n",
        "test_data_length = ceil(data_length*(1 - train_to_test_ratio))\n",
        "\n",
        "train_set , test_set = torch.utils.data.random_split(data_set , [train_data_length , test_data_length])\n",
        "\n",
        "\n",
        "batch_size = 32\n",
        "\n",
        "\n",
        "train_loader = DataLoader(dataset = train_set , batch_size = batch_size , shuffle = True)\n",
        "test_loader = DataLoader(dataset = test_set , batch_size = batch_size , shuffle = True)\n",
        "print('training data size is :',train_data_length)\n",
        "print('testing data size is :',test_data_length)"
      ]
    },
    {
      "cell_type": "markdown",
      "metadata": {
        "id": "4omPgyWVASO5"
      },
      "source": [
        "Define the model architecture"
      ]
    },
    {
      "cell_type": "code",
      "execution_count": null,
      "metadata": {
        "id": "A28ZQgINAWD4"
      },
      "outputs": [],
      "source": [
        "import torch \n",
        "import torch.nn as nn\n",
        "import torch.nn.functional as f\n",
        "from torchsummary import summary\n",
        "\n",
        "class self_driving_model(nn.Module):\n",
        "    def __init__(self):\n",
        "        super(self_driving_model,self).__init__()\n",
        "\n",
        "\n",
        "        self.conv_1 = nn.Sequential(\n",
        "            nn.Conv2d(3 , 3 , kernel_size = 3 , stride = 1 , padding = 1),\n",
        "            nn.InstanceNorm2d(3, affine=True),\n",
        "            nn.SiLU(inplace=True),\n",
        "            nn.Conv2d(3 , 3 , kernel_size = 3 , stride = 1 , padding = 1),\n",
        "            nn.InstanceNorm2d(3, affine=True),\n",
        "            nn.SiLU(inplace=True),\n",
        "            \n",
        "            )\n",
        "        self.conv_2 = nn.Sequential(\n",
        "            nn.Conv2d(6 , 3 , kernel_size = 3 , stride = 1 , padding = 1),\n",
        "            nn.InstanceNorm2d(3, affine=True),\n",
        "            nn.SiLU(inplace = True),\n",
        "            nn.Conv2d(3 , 1 , kernel_size = 3 , stride = 1 , padding = 1),\n",
        "            nn.SiLU(inplace=True),\n",
        "            nn.MaxPool2d(16),\n",
        "            )\n",
        "\n",
        "            \n",
        "        ###########################################\n",
        "        self.fc = nn.Sequential(\n",
        "            nn.Dropout(p=0.2),\n",
        "            nn.Linear(512,128),\n",
        "            nn.SiLU(inplace=True),\n",
        "            nn.Dropout(p=0.2),\n",
        "            nn.Linear(128,4),\n",
        "            )\n",
        "\n",
        "    def forward(self,x):\n",
        "\n",
        "        input = x\n",
        "\n",
        "        x = self.conv_1(x)\n",
        "\n",
        "        x = torch.cat((x,input),1)\n",
        "\n",
        "        x = self.conv_2(x)\n",
        "        \n",
        "        x = torch.flatten(x,1)\n",
        "        \n",
        "        x = self.fc(x)\n",
        "\n",
        "        return x\n",
        "\n"
      ]
    },
    {
      "cell_type": "code",
      "execution_count": null,
      "metadata": {
        "id": "aSN2oDZQ_5HW"
      },
      "outputs": [],
      "source": [
        "LR = 0.001\n",
        "num_epochs = 35\n",
        "device = torch.device('cuda' if torch.cuda.is_available() else 'cpu')\n",
        "device = 'cpu'\n",
        "print(device)"
      ]
    },
    {
      "cell_type": "code",
      "execution_count": null,
      "metadata": {
        "id": "fMA1ioaIK--k"
      },
      "outputs": [],
      "source": [
        "model = self_driving_model()\n",
        "pytorch_total_params = sum(p.numel() for p in model.parameters())\n",
        "print('number of parameters in the model : ',pytorch_total_params)\n",
        "model = model.to(device)"
      ]
    },
    {
      "cell_type": "code",
      "execution_count": null,
      "metadata": {
        "id": "FyJFQGVhfq_m"
      },
      "outputs": [],
      "source": [
        "class_weights= torch.tensor([1.18,13.8,0.1,12.6]).to(device = device)"
      ]
    },
    {
      "cell_type": "code",
      "execution_count": null,
      "metadata": {
        "id": "sPAbAxdBIrBE"
      },
      "outputs": [],
      "source": [
        "criterion = nn.CrossEntropyLoss(weight=class_weights,reduction='mean')\n",
        "optimizer = optim.Adam(model.parameters(),lr = LR)"
      ]
    },
    {
      "cell_type": "markdown",
      "metadata": {
        "id": "W9FffX1B6hqC"
      },
      "source": [
        "after running the next ceil the training will start"
      ]
    },
    {
      "cell_type": "code",
      "execution_count": null,
      "metadata": {
        "colab": {
          "background_save": true
        },
        "id": "2_Ghlm8cN47c"
      },
      "outputs": [],
      "source": [
        "loss_trace = []\n",
        "for epoch in range(num_epochs):\n",
        "  losses = []\n",
        "  for batch_idx, (data,targets) in tqdm(enumerate(train_loader)):\n",
        "    data = data.to(device = device)\n",
        "    targets = targets.to(device = device)\n",
        "\n",
        "    scores = model(data)\n",
        "    loss = criterion(scores, targets)\n",
        "    losses.append(loss.item())\n",
        "\n",
        "    optimizer.zero_grad()\n",
        "    loss.backward()\n",
        "\n",
        "    optimizer.step()\n",
        "  print(f'cost at epoch {epoch} , is {sum(losses)/len(losses)}')\n",
        "  loss_trace.append(sum(losses)/len(losses))"
      ]
    },
    {
      "cell_type": "markdown",
      "metadata": {
        "id": "yFWGqXcK63kM"
      },
      "source": [
        "shows the loss vs epochs plot"
      ]
    },
    {
      "cell_type": "code",
      "execution_count": null,
      "metadata": {
        "id": "oLaWe6zsgLWX"
      },
      "outputs": [],
      "source": [
        "plt.plot(loss_trace)\n",
        "plt.xlabel('epochs')\n",
        "plt.ylabel('loss')"
      ]
    },
    {
      "cell_type": "code",
      "execution_count": null,
      "metadata": {
        "id": "abMwCl8-UCct"
      },
      "outputs": [],
      "source": [
        "from torch.nn.modules.container import ParameterDict\n",
        "def check_accuracy(loader , model):\n",
        "  num_correct = 0\n",
        "  num_samples = 0\n",
        "  num_right = 0\n",
        "  total_right = 0\n",
        "  total_left = 0\n",
        "  num_left = 0\n",
        "  model.eval()\n",
        "  with torch.no_grad():\n",
        "    for x,y in tqdm(loader) :\n",
        "      x = x.to(device = device)\n",
        "      y = y.to(device = device)\n",
        "\n",
        "      scores = model(x)\n",
        "      predicions = torch.argmax(scores,dim = 1)\n",
        "      num_correct += (predicions == y).sum()\n",
        "      total_left +=(y == 3).sum()\n",
        "      num_left +=(predicions == 3).sum()\n",
        "      total_right +=(y == 1).sum()\n",
        "      num_right +=(predicions == 1).sum()\n",
        "      num_samples += predicions.size(0)\n",
        "    print(f'got {num_correct}/{num_samples} with accuracy {(float(num_correct)/float(num_samples))*100.0}')\n",
        "    print('predeccted right turns :',num_right , 'total right turns :',total_right)\n",
        "    print('predeccted left turns :',num_left ,'total left turns :', total_left)\n",
        "  model.train()\n"
      ]
    },
    {
      "cell_type": "code",
      "execution_count": null,
      "metadata": {
        "id": "Fq3HYaRyX2GZ"
      },
      "outputs": [],
      "source": [
        "print('checking accuracy on training set')\n",
        "check_accuracy(train_loader , model)\n",
        "\n",
        "print('checking accuracy on testing set')\n",
        "check_accuracy(test_loader , model)"
      ]
    },
    {
      "cell_type": "markdown",
      "metadata": {
        "id": "_5XL4ThJk0_x"
      },
      "source": [
        ""
      ]
    },
    {
      "cell_type": "markdown",
      "metadata": {
        "id": "o5BuyrsJ7lVA"
      },
      "source": [
        "finally save the model"
      ]
    },
    {
      "cell_type": "code",
      "execution_count": null,
      "metadata": {
        "id": "BenGvQ5E7k8o"
      },
      "outputs": [],
      "source": [
        "path = ''\n",
        "torch.save(model.state_dict(),os.path.join(path,'mod.stat'))"
      ]
    }
  ],
  "metadata": {
    "accelerator": "GPU",
    "colab": {
      "collapsed_sections": [],
      "name": "Untitled (2).ipynb",
      "provenance": []
    },
    "kernelspec": {
      "display_name": "Python 3",
      "name": "python3"
    },
    "language_info": {
      "name": "python"
    }
  },
  "nbformat": 4,
  "nbformat_minor": 0
}