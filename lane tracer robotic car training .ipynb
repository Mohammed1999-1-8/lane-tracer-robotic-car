{
  "cells": [
    {
      "cell_type": "markdown",
      "source": [
        "# Self driving car - street lane tracing \n",
        "the goal of this work is to design RC robotic car , this car is supposed to trace the lanes on a small track. "
      ],
      "metadata": {
        "id": "TZgCvs12zPOx"
      }
    },
    {
      "cell_type": "code",
      "execution_count": 42,
      "metadata": {
        "id": "dxxU6b_wu10v"
      },
      "outputs": [],
      "source": [
        "import pandas as pd\n",
        "import os \n",
        "import torch\n",
        "import torchvision\n",
        "from torch.utils.data import Dataset,DataLoader\n",
        "from skimage import io\n",
        "import torchvision.transforms as transforms\n",
        "import numpy as np\n",
        "import cv2 \n",
        "import matplotlib.pyplot as plt\n",
        "from math import floor , ceil\n",
        "import torch.nn as nn\n",
        "import torch.optim as optim\n",
        "from model import self_driving_model\n",
        "from tqdm import tqdm"
      ]
    },
    {
      "cell_type": "code",
      "source": [
        "class customDataset(Dataset):\n",
        "  def __init__(self,csv_file,root_url,transform = None):\n",
        "    self.annotation = pd.read_csv(csv_file)\n",
        "    self.root_dir = root_url\n",
        "    self.transform = transform\n",
        "\n",
        "  def __len__(self):\n",
        "    return len(self.annotation)\n",
        "\n",
        "  def __getitem__(self, index):\n",
        "    image_path = os.path.join(self.root_dir,self.annotation.iloc[index,0].split(';')[0])\n",
        "    image = io.imread(image_path)\n",
        "    y_label = torch.tensor(int(self.annotation.iloc[index,0].split(';')[1][1]))\n",
        "    if self.transform :\n",
        "      image = self.transform(image)\n",
        "    return (image,y_label)"
      ],
      "metadata": {
        "id": "gkvKI7534o0v"
      },
      "execution_count": 43,
      "outputs": []
    },
    {
      "cell_type": "code",
      "source": [
        "data_set = customDataset(csv_file = 'drive/MyDrive/dataset/ref/ref.csv',root_url='drive/MyDrive/dataset/images'\n",
        ",transform = transforms.ToTensor())\n",
        "\n",
        "train_to_test_ratio = 0.8\n",
        "\n",
        "data_length = data_set.__len__()\n",
        "train_data_length = floor(data_length*train_to_test_ratio)\n",
        "test_data_length = ceil(data_length*(1 - train_to_test_ratio))\n",
        "\n",
        "train_set , test_set = torch.utils.data.random_split(data_set , [train_data_length , test_data_length])\n",
        "\n",
        "\n",
        "batch_size = 32\n",
        "\n",
        "\n",
        "train_loader = DataLoader(dataset = train_set , batch_size = batch_size , shuffle = True)\n",
        "test_loader = DataLoader(dataset = test_set , batch_size = batch_size , shuffle = True)\n",
        "print('training data size is :',train_data_length)\n",
        "print('testing data size is :',test_data_length)"
      ],
      "metadata": {
        "id": "0EtK9vfp8w8P",
        "colab": {
          "base_uri": "https://localhost:8080/"
        },
        "outputId": "beefdb23-7c22-4af2-90d9-49c24c41733d"
      },
      "execution_count": 44,
      "outputs": [
        {
          "output_type": "stream",
          "name": "stdout",
          "text": [
            "training data size is : 8909\n",
            "testing data size is : 2228\n"
          ]
        }
      ]
    },
    {
      "cell_type": "code",
      "source": [
        "LR = 0.001\n",
        "num_epochs = 25\n",
        "device = torch.device('cuda' if torch.cuda.is_available() else 'cpu')\n",
        "print(device)"
      ],
      "metadata": {
        "colab": {
          "base_uri": "https://localhost:8080/"
        },
        "id": "aSN2oDZQ_5HW",
        "outputId": "adea2431-29e8-40c9-c793-ec8795cb3e6a"
      },
      "execution_count": 61,
      "outputs": [
        {
          "output_type": "stream",
          "name": "stdout",
          "text": [
            "cuda\n"
          ]
        }
      ]
    },
    {
      "cell_type": "code",
      "source": [
        "num_classes = 4\n",
        "model = torchvision.models.resnet18(pretrained=True)\n",
        "model.fc = nn.Linear(512, num_classes)\n",
        "pytorch_total_params = sum(p.numel() for p in model.parameters())\n",
        "print('number of parameters in the model : ',pytorch_total_params)\n",
        "model = model.to(device)"
      ],
      "metadata": {
        "id": "fMA1ioaIK--k",
        "outputId": "3ff46c69-b065-40da-805b-7e0d9e5c8d85",
        "colab": {
          "base_uri": "https://localhost:8080/"
        }
      },
      "execution_count": 62,
      "outputs": [
        {
          "output_type": "stream",
          "name": "stdout",
          "text": [
            "number of parameters in the model :  11178564\n"
          ]
        }
      ]
    },
    {
      "cell_type": "code",
      "source": [
        "class_weights= torch.tensor([1.0,10.0,1.0,10.0]).to(device = device)"
      ],
      "metadata": {
        "id": "FyJFQGVhfq_m"
      },
      "execution_count": 63,
      "outputs": []
    },
    {
      "cell_type": "code",
      "source": [
        "criterion = nn.CrossEntropyLoss(weight=class_weights,reduction='mean')\n",
        "optimizer = optim.Adam(model.parameters(),lr = LR)"
      ],
      "metadata": {
        "id": "sPAbAxdBIrBE"
      },
      "execution_count": 64,
      "outputs": []
    },
    {
      "cell_type": "markdown",
      "source": [
        "after running the next ceil the training will start"
      ],
      "metadata": {
        "id": "W9FffX1B6hqC"
      }
    },
    {
      "cell_type": "code",
      "source": [
        "loss_trace = []\n",
        "for epoch in range(num_epochs):\n",
        "  losses = []\n",
        "  for batch_idx, (data,targets) in tqdm(enumerate(train_loader)):\n",
        "    data = data.to(device = device)\n",
        "    targets = targets.to(device = device)\n",
        "\n",
        "    scores = model(data)\n",
        "    loss = criterion(scores, targets)\n",
        "    losses.append(loss.item())\n",
        "\n",
        "    optimizer.zero_grad()\n",
        "    loss.backward()\n",
        "\n",
        "    optimizer.step()\n",
        "  print(f'cost at epoch {epoch} , is {sum(losses)/len(losses)}')\n",
        "  loss_trace.append(sum(losses)/len(losses))"
      ],
      "metadata": {
        "id": "2_Ghlm8cN47c",
        "colab": {
          "base_uri": "https://localhost:8080/"
        },
        "outputId": "92e41697-a2d9-42c6-90a0-cf8fab8a9274"
      },
      "execution_count": 65,
      "outputs": [
        {
          "output_type": "stream",
          "name": "stderr",
          "text": [
            "279it [03:51,  1.20it/s]\n"
          ]
        },
        {
          "output_type": "stream",
          "name": "stdout",
          "text": [
            "cost at epoch 0 , is 0.5557560176191364\n"
          ]
        },
        {
          "output_type": "stream",
          "name": "stderr",
          "text": [
            "279it [03:52,  1.20it/s]\n"
          ]
        },
        {
          "output_type": "stream",
          "name": "stdout",
          "text": [
            "cost at epoch 1 , is 0.4928936456266697\n"
          ]
        },
        {
          "output_type": "stream",
          "name": "stderr",
          "text": [
            "279it [03:52,  1.20it/s]\n"
          ]
        },
        {
          "output_type": "stream",
          "name": "stdout",
          "text": [
            "cost at epoch 2 , is 0.4906942358901424\n"
          ]
        },
        {
          "output_type": "stream",
          "name": "stderr",
          "text": [
            "279it [03:52,  1.20it/s]\n"
          ]
        },
        {
          "output_type": "stream",
          "name": "stdout",
          "text": [
            "cost at epoch 3 , is 0.4789094500323778\n"
          ]
        },
        {
          "output_type": "stream",
          "name": "stderr",
          "text": [
            "279it [03:52,  1.20it/s]\n"
          ]
        },
        {
          "output_type": "stream",
          "name": "stdout",
          "text": [
            "cost at epoch 4 , is 0.48484629296487375\n"
          ]
        },
        {
          "output_type": "stream",
          "name": "stderr",
          "text": [
            "279it [03:52,  1.20it/s]\n"
          ]
        },
        {
          "output_type": "stream",
          "name": "stdout",
          "text": [
            "cost at epoch 5 , is 0.46328026504926784\n"
          ]
        },
        {
          "output_type": "stream",
          "name": "stderr",
          "text": [
            "279it [03:52,  1.20it/s]\n"
          ]
        },
        {
          "output_type": "stream",
          "name": "stdout",
          "text": [
            "cost at epoch 6 , is 0.46856460503993497\n"
          ]
        },
        {
          "output_type": "stream",
          "name": "stderr",
          "text": [
            "279it [03:52,  1.20it/s]\n"
          ]
        },
        {
          "output_type": "stream",
          "name": "stdout",
          "text": [
            "cost at epoch 7 , is 0.46046858005839864\n"
          ]
        },
        {
          "output_type": "stream",
          "name": "stderr",
          "text": [
            "279it [03:52,  1.20it/s]\n"
          ]
        },
        {
          "output_type": "stream",
          "name": "stdout",
          "text": [
            "cost at epoch 8 , is 0.44936851441432923\n"
          ]
        },
        {
          "output_type": "stream",
          "name": "stderr",
          "text": [
            "279it [03:52,  1.20it/s]\n"
          ]
        },
        {
          "output_type": "stream",
          "name": "stdout",
          "text": [
            "cost at epoch 9 , is 0.46433252875950176\n"
          ]
        },
        {
          "output_type": "stream",
          "name": "stderr",
          "text": [
            "279it [03:52,  1.20it/s]\n"
          ]
        },
        {
          "output_type": "stream",
          "name": "stdout",
          "text": [
            "cost at epoch 10 , is 0.4547135029856022\n"
          ]
        },
        {
          "output_type": "stream",
          "name": "stderr",
          "text": [
            "279it [03:52,  1.20it/s]\n"
          ]
        },
        {
          "output_type": "stream",
          "name": "stdout",
          "text": [
            "cost at epoch 11 , is 0.4355747526157714\n"
          ]
        },
        {
          "output_type": "stream",
          "name": "stderr",
          "text": [
            "279it [03:52,  1.20it/s]\n"
          ]
        },
        {
          "output_type": "stream",
          "name": "stdout",
          "text": [
            "cost at epoch 12 , is 0.4263715758973125\n"
          ]
        },
        {
          "output_type": "stream",
          "name": "stderr",
          "text": [
            "279it [03:52,  1.20it/s]\n"
          ]
        },
        {
          "output_type": "stream",
          "name": "stdout",
          "text": [
            "cost at epoch 13 , is 0.4134756764096598\n"
          ]
        },
        {
          "output_type": "stream",
          "name": "stderr",
          "text": [
            "279it [03:52,  1.20it/s]\n"
          ]
        },
        {
          "output_type": "stream",
          "name": "stdout",
          "text": [
            "cost at epoch 14 , is 0.40042081464576035\n"
          ]
        },
        {
          "output_type": "stream",
          "name": "stderr",
          "text": [
            "279it [03:52,  1.20it/s]\n"
          ]
        },
        {
          "output_type": "stream",
          "name": "stdout",
          "text": [
            "cost at epoch 15 , is 0.3765549164625906\n"
          ]
        },
        {
          "output_type": "stream",
          "name": "stderr",
          "text": [
            "279it [03:52,  1.20it/s]\n"
          ]
        },
        {
          "output_type": "stream",
          "name": "stdout",
          "text": [
            "cost at epoch 16 , is 0.3328606085217555\n"
          ]
        },
        {
          "output_type": "stream",
          "name": "stderr",
          "text": [
            "279it [03:52,  1.20it/s]\n"
          ]
        },
        {
          "output_type": "stream",
          "name": "stdout",
          "text": [
            "cost at epoch 17 , is 0.2759651756948895\n"
          ]
        },
        {
          "output_type": "stream",
          "name": "stderr",
          "text": [
            "279it [03:52,  1.20it/s]\n"
          ]
        },
        {
          "output_type": "stream",
          "name": "stdout",
          "text": [
            "cost at epoch 18 , is 0.23375971499149517\n"
          ]
        },
        {
          "output_type": "stream",
          "name": "stderr",
          "text": [
            "279it [03:52,  1.20it/s]\n"
          ]
        },
        {
          "output_type": "stream",
          "name": "stdout",
          "text": [
            "cost at epoch 19 , is 0.18019382838547016\n"
          ]
        },
        {
          "output_type": "stream",
          "name": "stderr",
          "text": [
            "279it [03:52,  1.20it/s]\n"
          ]
        },
        {
          "output_type": "stream",
          "name": "stdout",
          "text": [
            "cost at epoch 20 , is 0.13449467814070135\n"
          ]
        },
        {
          "output_type": "stream",
          "name": "stderr",
          "text": [
            "279it [03:52,  1.20it/s]\n"
          ]
        },
        {
          "output_type": "stream",
          "name": "stdout",
          "text": [
            "cost at epoch 21 , is 0.08050770996685898\n"
          ]
        },
        {
          "output_type": "stream",
          "name": "stderr",
          "text": [
            "279it [03:52,  1.20it/s]\n"
          ]
        },
        {
          "output_type": "stream",
          "name": "stdout",
          "text": [
            "cost at epoch 22 , is 0.09372006513438719\n"
          ]
        },
        {
          "output_type": "stream",
          "name": "stderr",
          "text": [
            "279it [03:52,  1.20it/s]\n"
          ]
        },
        {
          "output_type": "stream",
          "name": "stdout",
          "text": [
            "cost at epoch 23 , is 0.06295030267815703\n"
          ]
        },
        {
          "output_type": "stream",
          "name": "stderr",
          "text": [
            "279it [03:52,  1.20it/s]"
          ]
        },
        {
          "output_type": "stream",
          "name": "stdout",
          "text": [
            "cost at epoch 24 , is 0.027769224119446104\n"
          ]
        },
        {
          "output_type": "stream",
          "name": "stderr",
          "text": [
            "\n"
          ]
        }
      ]
    },
    {
      "cell_type": "markdown",
      "source": [
        "shows the loss vs epochs plot"
      ],
      "metadata": {
        "id": "yFWGqXcK63kM"
      }
    },
    {
      "cell_type": "code",
      "source": [
        "plt.plot(loss_trace)\n",
        "plt.xlabel('epochs')\n",
        "plt.ylabel('loss')"
      ],
      "metadata": {
        "colab": {
          "base_uri": "https://localhost:8080/",
          "height": 296
        },
        "id": "oLaWe6zsgLWX",
        "outputId": "f9aeafc6-390d-483b-ab2b-7d4e43c8fbac"
      },
      "execution_count": 66,
      "outputs": [
        {
          "output_type": "execute_result",
          "data": {
            "text/plain": [
              "Text(0, 0.5, 'loss')"
            ]
          },
          "metadata": {},
          "execution_count": 66
        },
        {
          "output_type": "display_data",
          "data": {
            "text/plain": [
              "<Figure size 432x288 with 1 Axes>"
            ],
            "image/png": "[encoded data removed]"
          },
          "metadata": {
            "needs_background": "light"
          }
        }
      ]
    },
    {
      "cell_type": "code",
      "source": [
        "def check_accuracy(loader , model):\n",
        "  num_correct = 0\n",
        "  num_samples = 0\n",
        "  model.eval()\n",
        "  with torch.no_grad():\n",
        "    for x,y in tqdm(loader) :\n",
        "      x = x.to(device = device)\n",
        "      y = y.to(device = device)\n",
        "\n",
        "      scores = model(x)\n",
        "      predicions = torch.argmax(scores,dim = 1)\n",
        "      num_correct += (predicions == y).sum()\n",
        "      num_samples += predicions.size(0)\n",
        "    print(f'got {num_correct}/{num_samples} with accuracy {(float(num_correct)/float(num_samples))*100.0}')\n",
        "  model.train()\n"
      ],
      "metadata": {
        "id": "abMwCl8-UCct"
      },
      "execution_count": 67,
      "outputs": []
    },
    {
      "cell_type": "code",
      "source": [
        "print('checking accuracy on training set')\n",
        "check_accuracy(train_loader , model)\n",
        "\n",
        "print('checking accuracy on testing set')\n",
        "check_accuracy(test_loader , model)"
      ],
      "metadata": {
        "id": "Fq3HYaRyX2GZ",
        "colab": {
          "base_uri": "https://localhost:8080/"
        },
        "outputId": "dfc09a8c-728b-4546-b76d-6450b6210dcb"
      },
      "execution_count": 68,
      "outputs": [
        {
          "output_type": "stream",
          "name": "stdout",
          "text": [
            "checking accuracy on training set\n"
          ]
        },
        {
          "output_type": "stream",
          "name": "stderr",
          "text": [
            "100%|██████████| 279/279 [01:05<00:00,  4.28it/s]\n"
          ]
        },
        {
          "output_type": "stream",
          "name": "stdout",
          "text": [
            "got 8810/8909 with accuracy 98.88876417106297\n",
            "checking accuracy on testing set\n"
          ]
        },
        {
          "output_type": "stream",
          "name": "stderr",
          "text": [
            "100%|██████████| 70/70 [00:16<00:00,  4.31it/s]\n"
          ]
        },
        {
          "output_type": "stream",
          "name": "stdout",
          "text": [
            "got 1775/2228 with accuracy 79.66786355475763\n"
          ]
        }
      ]
    },
    {
      "cell_type": "markdown",
      "source": [
        "finally save the model"
      ],
      "metadata": {
        "id": "o5BuyrsJ7lVA"
      }
    },
    {
      "cell_type": "code",
      "source": [
        "path = ''\n",
        "torch.save(model.state_dict(),os.path.join(path,'mod.stat'))"
      ],
      "metadata": {
        "id": "BenGvQ5E7k8o"
      },
      "execution_count": 60,
      "outputs": []
    }
  ],
  "metadata": {
    "colab": {
      "name": "Untitled.ipynb",
      "provenance": [],
      "collapsed_sections": []
    },
    "kernelspec": {
      "display_name": "Python 3",
      "name": "python3"
    },
    "language_info": {
      "name": "python"
    },
    "accelerator": "GPU"
  },
  "nbformat": 4,
  "nbformat_minor": 0
}